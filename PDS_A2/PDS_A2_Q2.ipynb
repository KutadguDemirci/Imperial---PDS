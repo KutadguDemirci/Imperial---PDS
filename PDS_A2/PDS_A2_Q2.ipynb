{
 "cells": [
  {
   "attachments": {},
   "cell_type": "markdown",
   "metadata": {},
   "source": [
    "# Assessment 2 MATH70094 Programming for Data Science Autumn 2025\n",
    "\n",
    "# Kutadgu Gokalp Demirci - 06071571\n",
    "\n",
    "# Question 2 (16 marks)"
   ]
  },
  {
   "cell_type": "markdown",
   "metadata": {},
   "source": [
    "In this question you continue the analysis of the flight data using Python. \n",
    " \n",
    "Some helpful functions for this question are `merge`, `apply`, `groupby`, `dropna`."
   ]
  },
  {
   "cell_type": "markdown",
   "metadata": {},
   "source": [
    "## Code clarity (1 mark)\n",
    "\n",
    "There is a famous saying among software developers that code is read more often than it is written. Marks will be awarded (or not awarded) based on the clarity of the code and appropriate use of comments."
   ]
  },
  {
   "cell_type": "markdown",
   "metadata": {},
   "source": [
    "## Part A\n",
    "\n",
    "### Part A(i) (1 mark)\n",
    "\n",
    "Load the contents of the csv files `flights.csv` and `planes.csv` as dataframes named `flights` and `planes`. Print the first 6 rows from each dataframe. How many flights are there in all?"
   ]
  },
  {
   "cell_type": "code",
   "execution_count": 97,
   "metadata": {},
   "outputs": [
    {
     "name": "stdout",
     "output_type": "stream",
     "text": [
      "There are 336776 flights in the flights.csv dataset.\n",
      "There are 3322 planes in the planes.csv dataset.\n",
      "   year  month  day  dep_time  sched_dep_time  dep_delay  arr_time  \\\n",
      "0  2013      1    1     517.0             515        2.0     830.0   \n",
      "1  2013      1    1     533.0             529        4.0     850.0   \n",
      "2  2013      1    1     542.0             540        2.0     923.0   \n",
      "3  2013      1    1     544.0             545       -1.0    1004.0   \n",
      "4  2013      1    1     554.0             600       -6.0     812.0   \n",
      "\n",
      "   sched_arr_time  arr_delay carrier  flight tailnum origin dest  air_time  \\\n",
      "0             819       11.0      UA    1545  N14228    EWR  IAH     227.0   \n",
      "1             830       20.0      UA    1714  N24211    LGA  IAH     227.0   \n",
      "2             850       33.0      AA    1141  N619AA    JFK  MIA     160.0   \n",
      "3            1022      -18.0      B6     725  N804JB    JFK  BQN     183.0   \n",
      "4             837      -25.0      DL     461  N668DN    LGA  ATL     116.0   \n",
      "\n",
      "   distance  hour  minute            time_hour  \n",
      "0      1400     5      15  2013-01-01 05:00:00  \n",
      "1      1416     5      29  2013-01-01 05:00:00  \n",
      "2      1089     5      40  2013-01-01 05:00:00  \n",
      "3      1576     5      45  2013-01-01 05:00:00  \n",
      "4       762     6       0  2013-01-01 06:00:00  \n",
      "   Unnamed: 0 tailnum    year                     type      manufacturer  \\\n",
      "0           1  N10156  2004.0  Fixed wing multi engine           EMBRAER   \n",
      "1           2  N102UW  1998.0  Fixed wing multi engine  AIRBUS INDUSTRIE   \n",
      "2           3  N103US  1999.0  Fixed wing multi engine  AIRBUS INDUSTRIE   \n",
      "3           4  N104UW  1999.0  Fixed wing multi engine  AIRBUS INDUSTRIE   \n",
      "4           5  N10575  2002.0  Fixed wing multi engine           EMBRAER   \n",
      "\n",
      "       model  engines  seats  speed     engine  \n",
      "0  EMB-145XR        2     55    NaN  Turbo-fan  \n",
      "1   A320-214        2    182    NaN  Turbo-fan  \n",
      "2   A320-214        2    182    NaN  Turbo-fan  \n",
      "3   A320-214        2    182    NaN  Turbo-fan  \n",
      "4  EMB-145LR        2     55    NaN  Turbo-fan  \n"
     ]
    }
   ],
   "source": [
    "import pandas as pd\n",
    "import numpy as np\n",
    "\n",
    "flights = pd.read_csv('flights.csv')\n",
    "planes = pd.read_csv('planes.csv')\n",
    "\n",
    "print(f\"There are {flights.shape[0]} flights in the flights.csv dataset.\")\n",
    "print(f\"There are {planes.shape[0]} planes in the planes.csv dataset.\")\n",
    "\n",
    "print(flights[0:5])\n",
    "print(planes[0:5])"
   ]
  },
  {
   "cell_type": "markdown",
   "metadata": {},
   "source": [
    "### Part A(ii) (1 mark)\n",
    "\n",
    "Find the number of missing entries for each column in `flights`."
   ]
  },
  {
   "cell_type": "code",
   "execution_count": 98,
   "metadata": {},
   "outputs": [
    {
     "name": "stdout",
     "output_type": "stream",
     "text": [
      "year                 0\n",
      "month                0\n",
      "day                  0\n",
      "dep_time          8255\n",
      "sched_dep_time       0\n",
      "dep_delay         8255\n",
      "arr_time          8713\n",
      "sched_arr_time       0\n",
      "arr_delay         9430\n",
      "carrier              0\n",
      "flight               0\n",
      "tailnum           2512\n",
      "origin               0\n",
      "dest                 0\n",
      "air_time          9430\n",
      "distance             0\n",
      "hour                 0\n",
      "minute               0\n",
      "time_hour            0\n",
      "dtype: int64\n"
     ]
    }
   ],
   "source": [
    "na_column_entries_flight = flights.isna().sum()\n",
    "print(na_column_entries_flight)\n",
    "\n",
    "\n",
    "# Double checking a missing entry.\n",
    "\n",
    "#flights[flights['dep_time'].isna()].index[0:5]\n",
    "#print(flights.loc[838])"
   ]
  },
  {
   "cell_type": "markdown",
   "metadata": {},
   "source": [
    "### Part A(iii) (2 marks)\n",
    "\n",
    "Add a new column named `long_delayed_AA` to `flights`, which contains for a flight the value `True` if it is a flight by the carrier 'AA', is long haul (`distance` more than 1000 miles) and arrived with more than 30 minutes delay. Otherwise, it contains the value `False`. To check the results after adding the column, print the first 10 rows of `flights` including only the columns `carrier`, `distance`, `arr_delay` and `long_delayed_AA`. For how many flights is `long_delayed_AA` equal to `True`?  "
   ]
  },
  {
   "cell_type": "code",
   "execution_count": 99,
   "metadata": {},
   "outputs": [
    {
     "data": {
      "text/html": [
       "<div>\n",
       "<style scoped>\n",
       "    .dataframe tbody tr th:only-of-type {\n",
       "        vertical-align: middle;\n",
       "    }\n",
       "\n",
       "    .dataframe tbody tr th {\n",
       "        vertical-align: top;\n",
       "    }\n",
       "\n",
       "    .dataframe thead th {\n",
       "        text-align: right;\n",
       "    }\n",
       "</style>\n",
       "<table border=\"1\" class=\"dataframe\">\n",
       "  <thead>\n",
       "    <tr style=\"text-align: right;\">\n",
       "      <th></th>\n",
       "      <th>year</th>\n",
       "      <th>month</th>\n",
       "      <th>day</th>\n",
       "      <th>dep_time</th>\n",
       "      <th>sched_dep_time</th>\n",
       "      <th>dep_delay</th>\n",
       "      <th>arr_time</th>\n",
       "      <th>sched_arr_time</th>\n",
       "      <th>arr_delay</th>\n",
       "      <th>carrier</th>\n",
       "      <th>flight</th>\n",
       "      <th>tailnum</th>\n",
       "      <th>origin</th>\n",
       "      <th>dest</th>\n",
       "      <th>air_time</th>\n",
       "      <th>distance</th>\n",
       "      <th>hour</th>\n",
       "      <th>minute</th>\n",
       "      <th>time_hour</th>\n",
       "      <th>long_delayed_AA</th>\n",
       "    </tr>\n",
       "  </thead>\n",
       "  <tbody>\n",
       "    <tr>\n",
       "      <th>0</th>\n",
       "      <td>2013</td>\n",
       "      <td>1</td>\n",
       "      <td>1</td>\n",
       "      <td>517.0</td>\n",
       "      <td>515</td>\n",
       "      <td>2.0</td>\n",
       "      <td>830.0</td>\n",
       "      <td>819</td>\n",
       "      <td>11.0</td>\n",
       "      <td>UA</td>\n",
       "      <td>1545</td>\n",
       "      <td>N14228</td>\n",
       "      <td>EWR</td>\n",
       "      <td>IAH</td>\n",
       "      <td>227.0</td>\n",
       "      <td>1400</td>\n",
       "      <td>5</td>\n",
       "      <td>15</td>\n",
       "      <td>2013-01-01 05:00:00</td>\n",
       "      <td>False</td>\n",
       "    </tr>\n",
       "    <tr>\n",
       "      <th>1</th>\n",
       "      <td>2013</td>\n",
       "      <td>1</td>\n",
       "      <td>1</td>\n",
       "      <td>533.0</td>\n",
       "      <td>529</td>\n",
       "      <td>4.0</td>\n",
       "      <td>850.0</td>\n",
       "      <td>830</td>\n",
       "      <td>20.0</td>\n",
       "      <td>UA</td>\n",
       "      <td>1714</td>\n",
       "      <td>N24211</td>\n",
       "      <td>LGA</td>\n",
       "      <td>IAH</td>\n",
       "      <td>227.0</td>\n",
       "      <td>1416</td>\n",
       "      <td>5</td>\n",
       "      <td>29</td>\n",
       "      <td>2013-01-01 05:00:00</td>\n",
       "      <td>False</td>\n",
       "    </tr>\n",
       "    <tr>\n",
       "      <th>2</th>\n",
       "      <td>2013</td>\n",
       "      <td>1</td>\n",
       "      <td>1</td>\n",
       "      <td>542.0</td>\n",
       "      <td>540</td>\n",
       "      <td>2.0</td>\n",
       "      <td>923.0</td>\n",
       "      <td>850</td>\n",
       "      <td>33.0</td>\n",
       "      <td>AA</td>\n",
       "      <td>1141</td>\n",
       "      <td>N619AA</td>\n",
       "      <td>JFK</td>\n",
       "      <td>MIA</td>\n",
       "      <td>160.0</td>\n",
       "      <td>1089</td>\n",
       "      <td>5</td>\n",
       "      <td>40</td>\n",
       "      <td>2013-01-01 05:00:00</td>\n",
       "      <td>True</td>\n",
       "    </tr>\n",
       "    <tr>\n",
       "      <th>3</th>\n",
       "      <td>2013</td>\n",
       "      <td>1</td>\n",
       "      <td>1</td>\n",
       "      <td>544.0</td>\n",
       "      <td>545</td>\n",
       "      <td>-1.0</td>\n",
       "      <td>1004.0</td>\n",
       "      <td>1022</td>\n",
       "      <td>-18.0</td>\n",
       "      <td>B6</td>\n",
       "      <td>725</td>\n",
       "      <td>N804JB</td>\n",
       "      <td>JFK</td>\n",
       "      <td>BQN</td>\n",
       "      <td>183.0</td>\n",
       "      <td>1576</td>\n",
       "      <td>5</td>\n",
       "      <td>45</td>\n",
       "      <td>2013-01-01 05:00:00</td>\n",
       "      <td>False</td>\n",
       "    </tr>\n",
       "    <tr>\n",
       "      <th>4</th>\n",
       "      <td>2013</td>\n",
       "      <td>1</td>\n",
       "      <td>1</td>\n",
       "      <td>554.0</td>\n",
       "      <td>600</td>\n",
       "      <td>-6.0</td>\n",
       "      <td>812.0</td>\n",
       "      <td>837</td>\n",
       "      <td>-25.0</td>\n",
       "      <td>DL</td>\n",
       "      <td>461</td>\n",
       "      <td>N668DN</td>\n",
       "      <td>LGA</td>\n",
       "      <td>ATL</td>\n",
       "      <td>116.0</td>\n",
       "      <td>762</td>\n",
       "      <td>6</td>\n",
       "      <td>0</td>\n",
       "      <td>2013-01-01 06:00:00</td>\n",
       "      <td>False</td>\n",
       "    </tr>\n",
       "  </tbody>\n",
       "</table>\n",
       "</div>"
      ],
      "text/plain": [
       "   year  month  day  dep_time  sched_dep_time  dep_delay  arr_time  \\\n",
       "0  2013      1    1     517.0             515        2.0     830.0   \n",
       "1  2013      1    1     533.0             529        4.0     850.0   \n",
       "2  2013      1    1     542.0             540        2.0     923.0   \n",
       "3  2013      1    1     544.0             545       -1.0    1004.0   \n",
       "4  2013      1    1     554.0             600       -6.0     812.0   \n",
       "\n",
       "   sched_arr_time  arr_delay carrier  flight tailnum origin dest  air_time  \\\n",
       "0             819       11.0      UA    1545  N14228    EWR  IAH     227.0   \n",
       "1             830       20.0      UA    1714  N24211    LGA  IAH     227.0   \n",
       "2             850       33.0      AA    1141  N619AA    JFK  MIA     160.0   \n",
       "3            1022      -18.0      B6     725  N804JB    JFK  BQN     183.0   \n",
       "4             837      -25.0      DL     461  N668DN    LGA  ATL     116.0   \n",
       "\n",
       "   distance  hour  minute            time_hour  long_delayed_AA  \n",
       "0      1400     5      15  2013-01-01 05:00:00            False  \n",
       "1      1416     5      29  2013-01-01 05:00:00            False  \n",
       "2      1089     5      40  2013-01-01 05:00:00             True  \n",
       "3      1576     5      45  2013-01-01 05:00:00            False  \n",
       "4       762     6       0  2013-01-01 06:00:00            False  "
      ]
     },
     "execution_count": 99,
     "metadata": {},
     "output_type": "execute_result"
    }
   ],
   "source": [
    "#print(flights.shape)\n",
    "flights['long_delayed_AA'] = (\n",
    "    (flights['carrier'] == 'AA') &\n",
    "    (flights['distance'] > 1000) &\n",
    "    (flights['arr_delay'] > 30)\n",
    ")\n",
    "\n",
    "# Check if its created\n",
    "flights.head()"
   ]
  },
  {
   "cell_type": "markdown",
   "metadata": {},
   "source": [
    "## Part B\n",
    "\n",
    "There are many missing entries in the `arr_delay` column in `flights`. Your task is to impute as many missing values using information from other variables.\n",
    "\n",
    "### Part B(i) (3 marks)\n",
    "\n",
    "To identify which covariates affect `arr_delay`, create three dataframes from `flights` as follows:\n",
    "- a dataframe named `monthly_stats` with two columns, which in each row contains for one of the 12 months the average arrival delay in that month as well as the total number of flights,\n",
    "- a dataframe named `hourly_stats` with two columns, which in each row contains for one of the 24 departure hours in a day the average arrival delay in that departure hour as well as the total number of flights,\n",
    "- a dataframe named `carrier_stats` with two columns, which in each row contains for one of the carriers the average arrival delay for that carrier as well as the total number of flights. \n",
    "\n",
    "Print all three newly created dataframes. Describe what you notice for each dataframe using one sentence."
   ]
  },
  {
   "cell_type": "code",
   "execution_count": 111,
   "metadata": {},
   "outputs": [
    {
     "name": "stdout",
     "output_type": "stream",
     "text": [
      "          avg_arr_delay  total_flights\n",
      "dep_hour                              \n",
      "0                120.88            876\n",
      "1                195.96            221\n",
      "2                224.65             63\n",
      "3                287.73             11\n",
      "4                 -8.88            305\n",
      "5                 -8.85           7230\n",
      "6                 -7.09          22627\n",
      "7                 -7.35          21409\n",
      "8                 -4.03          26367\n",
      "9                 -1.06          18820\n",
      "10                -0.51          16031\n",
      "11                 0.10          16712\n",
      "12                 2.26          16024\n",
      "13                 4.24          16845\n",
      "14                 2.33          20394\n",
      "15                 6.51          22703\n",
      "16                 7.39          22236\n",
      "17                11.33          22039\n",
      "18                13.39          21453\n",
      "19                14.59          19871\n",
      "20                21.63          16097\n",
      "21                35.60          10914\n",
      "22                62.08           5461\n",
      "23                90.74           2608\n",
      "24                58.62             29\n",
      "         avg_arr_delay  total_flights\n",
      "carrier                              \n",
      "9E                7.38          17294\n",
      "AA                0.36          31947\n",
      "AS               -9.93            709\n",
      "B6                9.46          54049\n",
      "DL                1.64          47658\n",
      "EV               15.80          51108\n",
      "F9               21.92            681\n",
      "FL               20.12           3175\n",
      "HA               -6.92            342\n",
      "MQ               10.77          25037\n",
      "OO               11.93             29\n",
      "UA                3.56          57782\n",
      "US                2.13          19831\n",
      "VX                1.76           5116\n",
      "WN                9.65          12044\n",
      "YV               15.56            544\n"
     ]
    }
   ],
   "source": [
    "flights_sub = flights.dropna(subset=['dep_time', 'arr_delay']).copy()\n",
    "flights_sub['dep_hour'] = (flights_sub['dep_time'] // 100).astype(int)\n",
    "\n",
    "hourly_stats = (flights_sub.groupby('dep_hour').agg(avg_arr_delay = ('arr_delay', 'mean'),\n",
    "                                                total_flights = ('arr_delay', 'size')).round(2))\n",
    "print(hourly_stats)\n",
    "\n",
    "\n",
    "carrier_stats = (flights_sub.groupby('carrier').agg(avg_arr_delay = ('arr_delay', 'mean'),\n",
    "                                                total_flights = ('arr_delay', 'size')).round(2))\n",
    "print(carrier_stats)"
   ]
  },
  {
   "cell_type": "markdown",
   "metadata": {},
   "source": [
    "### Part B(iii) (2 marks)\n",
    "\n",
    "Create a new dataframe `flights_imp` from `flights`. In the new dataframe, impute the missing `arr_delay` entries. To do so, fill in for a given row with a missing `arr_delay` entry the arrival delay averaged over all the flights with the same carrier within the same month and the same hour. After imputation, how many missing entries are left in the column `arr_delay`?"
   ]
  },
  {
   "cell_type": "code",
   "execution_count": 116,
   "metadata": {},
   "outputs": [
    {
     "name": "stdout",
     "output_type": "stream",
     "text": [
      "There are 0 missing values left in the dataset.\n"
     ]
    }
   ],
   "source": [
    "flights_imp = flights.copy()\n",
    "\n",
    "# Extract departure hour\n",
    "flights_imp['dep_hour'] = (flights_imp['dep_time'] // 100).astype('Int64')\n",
    "\n",
    "# Impute missing arrival delays with carrier+month+hour average\n",
    "flights_imp['arr_delay'] = flights_imp['arr_delay'].fillna(\n",
    "    flights_imp.groupby(['carrier', 'month', 'dep_hour'])['arr_delay'].transform('mean')\n",
    ")\n",
    "\n",
    "# Optional: fill any still-missing entries with overall mean\n",
    "flights_imp['arr_delay'] = flights_imp['arr_delay'].fillna(flights_imp['arr_delay'].mean())\n",
    "\n",
    "print(f\"There are {flights_imp['arr_delay'].isna().sum()} missing values left in the dataset.\")\n"
   ]
  },
  {
   "cell_type": "markdown",
   "metadata": {},
   "source": [
    "### Part B(iii) (1 mark)\n",
    "\n",
    "Using the `describe` method from Pandas, discuss if the distribution (quantiles, min, max) of the values in `arr_delay` has changed after imputation."
   ]
  },
  {
   "cell_type": "code",
   "execution_count": null,
   "metadata": {},
   "outputs": [],
   "source": []
  },
  {
   "cell_type": "markdown",
   "metadata": {},
   "source": [
    "## Part C\n",
    "\n",
    "You are asked to study the size of planes appearing in `flights`. \n",
    "\n",
    "### Part C(i) (1 mark)\n",
    "\n",
    "Add a new column named `size_category` to `planes` using the `apply` function from Pandas. The new column should indicate if a plane is `Small` (less than 100 seats), `Medium` (between 100 and 180 seats), 'Large' (between 181 and 250 seats) or 'Jumbo' (more than 250 seats). Keep the `%%timeit` at the beginning of the code cell below to measure the speed of executing your code."
   ]
  },
  {
   "cell_type": "code",
   "execution_count": 2,
   "metadata": {},
   "outputs": [
    {
     "name": "stderr",
     "output_type": "stream",
     "text": [
      "UsageError: %%timeit is a cell magic, but the cell body is empty. Did you mean the line magic %timeit (single %)?\n"
     ]
    }
   ],
   "source": [
    "%%timeit \n"
   ]
  },
  {
   "cell_type": "markdown",
   "metadata": {},
   "source": [
    "### Part C(ii) (2 mark)\n",
    "\n",
    "Repeat the task from C(i) but using only Numpy operations, to add a new column `size_category_np` to `planes`. Again, use `%%timeit` when running your code. What do you notice in comparison to the result in C(i) in terms of the running time?"
   ]
  },
  {
   "cell_type": "code",
   "execution_count": null,
   "metadata": {},
   "outputs": [],
   "source": [
    "%%timeit\n"
   ]
  },
  {
   "cell_type": "markdown",
   "metadata": {},
   "source": [
    "### Part C(iii) (1 mark)\n",
    "\n",
    "Using the `merge` method from Pandas, add the `size_category` column from `planes` to `flights`. "
   ]
  },
  {
   "cell_type": "code",
   "execution_count": null,
   "metadata": {},
   "outputs": [],
   "source": []
  },
  {
   "cell_type": "markdown",
   "metadata": {},
   "source": [
    "### Part C(iv) (1 marks)\n",
    "\n",
    "Determine for each size category the destination (`dest`) with the most flights. Which carrier uses the most `Large` planes?"
   ]
  },
  {
   "cell_type": "code",
   "execution_count": null,
   "metadata": {},
   "outputs": [],
   "source": []
  }
 ],
 "metadata": {
  "kernelspec": {
   "display_name": ".venv",
   "language": "python",
   "name": "python3"
  },
  "language_info": {
   "codemirror_mode": {
    "name": "ipython",
    "version": 3
   },
   "file_extension": ".py",
   "mimetype": "text/x-python",
   "name": "python",
   "nbconvert_exporter": "python",
   "pygments_lexer": "ipython3",
   "version": "3.9.6"
  }
 },
 "nbformat": 4,
 "nbformat_minor": 2
}
