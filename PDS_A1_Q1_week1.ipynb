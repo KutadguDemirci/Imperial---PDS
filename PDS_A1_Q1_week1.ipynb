{
 "cells": [
  {
   "attachments": {},
   "cell_type": "markdown",
   "metadata": {},
   "source": [
    "# Assessment 1 MATH70094 Programming for Data Science Autumn 2025\n",
    "\n",
    "# Kutadgu Gokalp Demirci - 06071571\n",
    "\n",
    "# Question 1 (20 marks)"
   ]
  },
  {
   "cell_type": "markdown",
   "metadata": {},
   "source": [
    "Suppose you are a spy, and you want to send string messages to other spies such that non-spies cannot read your messages. For this, your task is to provide Python statements and functions to encode and decode string messages, so the encoded message cannot be read without decoding it first. Some helpful functions/techniques for this question are:\n",
    "\n",
    "- `str.find`, `str.replace`, `str.upper`\n",
    "- `list.append`, `list.index`, `set.issubset`\n",
    "- `ord`, `chr`, `len`, `max`, `print`, `range`, `set`, `sum`.\n",
    "\n",
    "You may also wish to look up `if`, `for` and `while` loops as well as Python comprehensions. There are usually several ways to answer each question, and sometimes you might not use all or even any of the suggested functions."
   ]
  },
  {
   "cell_type": "markdown",
   "metadata": {},
   "source": [
    "## Code clarity (1 mark)\n",
    "\n",
    "There is a famous saying among software developers that code is read more often than it is written. Marks will be awarded (or not awarded) based on the clarity of the code and appropriate use of comments."
   ]
  },
  {
   "cell_type": "code",
   "execution_count": 23,
   "metadata": {},
   "outputs": [],
   "source": [
    "# Do not alter this\n",
    "\n",
    "msg1 = \"MEET AT THE BRIDGE AT DAWN\"\n",
    "msg2 = \"KBGSLM GIRVH GL RNKLIG HGZGH YFG I DZH YLIM DRGS RG\"\n",
    "msg3 = \"XLMW*MW*XLI*HIVW*WLSYWI*UVG*MW*XLI*WWT*UIAG*OLKDL*XLI*XLMW*AU*AU*XLMW*MW*XLI*HIVW*WLSYWI*UVG*MW*XLI*WWT*UIAG*OLKDL*XLI*XLMW*AU*AU\"\n",
    "important_words = [\"XLMW\", \"HIVW\", \"WLSYWI\", \"AU\", \"BUQ\", \"WWS\", \"UWG\"]\n",
    "\n",
    "# Do not alter this"
   ]
  },
  {
   "attachments": {},
   "cell_type": "markdown",
   "metadata": {},
   "source": [
    "## Part A (2 marks)\n",
    "\n",
    "You are given a message string `msg1` for encoding. A message string can be encoded if it contains only capital letters $A,B,..,Z$ and words separated by spaces `\" \"`. \n",
    "\n",
    "Write Python statements that return `True` if this is the case and `False` otherwise, preceded by an informative print statement.\n",
    "\n",
    "For example, if the message string is \"I AM A SPY\", then you should return \n",
    "\n",
    "    `The message contains only capital letters and whitespace: True.`"
   ]
  },
  {
   "cell_type": "code",
   "execution_count": 24,
   "metadata": {},
   "outputs": [
    {
     "name": "stdout",
     "output_type": "stream",
     "text": [
      "The message contains only capital letters and whitespaces: True.\n"
     ]
    }
   ],
   "source": [
    "allowed_list = set(\"QWERTYUIOPASDFGHJKLZXCVBNM \")\n",
    "\n",
    "#Set message to the message to be checked\n",
    "secret_message = msg1\n",
    "\n",
    "message_caracters = set(secret_message)\n",
    "\n",
    "result = message_caracters.issubset(allowed_list)\n",
    "\n",
    "print(f\"The message contains only capital letters and whitespaces: {result}.\")"
   ]
  },
  {
   "attachments": {},
   "cell_type": "markdown",
   "metadata": {},
   "source": [
    "## Part B (8 marks)\n",
    "\n",
    "We proceed with encoding and decoding the message string `msg1`.\n",
    "\n",
    "### Part B(i) (5 marks)\n",
    "\n",
    "Write a series of Python statements (or Python functions) to encode a message string using the following steps:\n",
    "1. Shift each letter by $+3$ positions in the alphabet with wrap around at $Z$. Examples: `A`$\\rightarrow$`D`, `X`$\\rightarrow$ `A`. \n",
    "2. The entire string is reversed. Example: `HELLO`$\\rightarrow$`OLLEH`.\n",
    "3. Replace any `\" \"` by `\"*\"`. Example: `I AM A SPY` $\\rightarrow$ `I*AM*A*SPY`.\n",
    "4. Characters at even positions (0-indexing) are lowercase. Example: `SECRET*TEXT`$\\rightarrow$`sEcReT*TeXt`.\n",
    "5. Add the spy-marker `\"\\#\\#\\#\"` at the beginning and end of the message so we know where it starts and ends. Example: `SPY`$\\rightarrow$`\"\\#\\#\\#SPY\\#\\#\\#\"`."
   ]
  },
  {
   "cell_type": "code",
   "execution_count": 25,
   "metadata": {},
   "outputs": [
    {
     "name": "stdout",
     "output_type": "stream",
     "text": [
      "\"\\#\\#\\#qZdG*Wd*hJgLuE*HkW*Wd*wHhP\\#\\#\\#\"\n"
     ]
    }
   ],
   "source": [
    "def encoding(message):\n",
    "    step_1 = \"\"\n",
    "    #Step 1\n",
    "    for caracter in message:\n",
    "        if caracter == \" \":\n",
    "            step_1+=\" \"\n",
    "        else:\n",
    "            new_caracter = (ord(caracter)-ord(\"A\") + 3) % 26 + ord(\"A\")\n",
    "            step_1+=(chr(new_caracter))\n",
    "    # print(step_1)\n",
    "\n",
    "    #Step 2\n",
    "    step_2 = \"\"\n",
    "    i = len(step_1) - 1\n",
    "\n",
    "    while i >= 0:\n",
    "        step_2 += step_1[i]\n",
    "        i -=1\n",
    "    # print(step_2)\n",
    "\n",
    "    #Step 3\n",
    "    step_3 = step_2.replace(\" \", \"*\")\n",
    "    # print(step_3)\n",
    "\n",
    "    #Step 4\n",
    "    step_4 = \"\"\n",
    "    for caracter in range(len(step_3)):\n",
    "        if caracter % 2 == 0:\n",
    "            step_4 += step_3[caracter].lower()\n",
    "        else:\n",
    "            step_4 += step_3[caracter]\n",
    "    # print(step_4)\n",
    "\n",
    "    #Step 5\n",
    "    encoded_message = '\"\\#\\#\\#' + step_4 + '\\#\\#\\#\"'\n",
    "    return encoded_message\n",
    "\n",
    "encoded_message = encoding(secret_message)\n",
    "print(encoded_message)"
   ]
  },
  {
   "cell_type": "markdown",
   "metadata": {},
   "source": [
    "### Part B(ii) (2 marks)\n",
    "\n",
    "Write a series of Python statements to decode an encoded message by applying the steps above in reverse order. "
   ]
  },
  {
   "cell_type": "code",
   "execution_count": 26,
   "metadata": {},
   "outputs": [
    {
     "data": {
      "text/plain": [
       "'MEET AT THE BRIDGE AT DAWN'"
      ]
     },
     "execution_count": 26,
     "metadata": {},
     "output_type": "execute_result"
    }
   ],
   "source": [
    "def decoding(message):\n",
    "\n",
    "#Undoing Step 5\n",
    "    message = message.replace('\"\\#\\#\\#','')\n",
    "    message = message.replace('\\#\\#\\#\"','')\n",
    "    # print(message)\n",
    "\n",
    "#Undoing Step 4\n",
    "    message = message.upper()\n",
    "    # print(message)\n",
    "\n",
    "#Undoing Step 3\n",
    "    message = message.replace('*',' ')\n",
    "    # print(message)\n",
    "\n",
    "#Undoing Step 2\n",
    "    i = len(message) - 1\n",
    "    undo_step_2 = \"\"\n",
    "    while i >= 0:\n",
    "        undo_step_2+=message[i]\n",
    "        i-=1\n",
    "    # print(undo_step_2)\n",
    "\n",
    "#Undoing Step 1\n",
    "    decoded_message = \"\"\n",
    "\n",
    "    for caracter in undo_step_2:\n",
    "        if caracter == \" \":\n",
    "            decoded_message += \" \"\n",
    "        else:\n",
    "            new_caracter = (ord(caracter)-ord(\"A\") - 3) % 26 + ord(\"A\")\n",
    "            decoded_message+=(chr(new_caracter))\n",
    "    # print(decoded_message)\n",
    "    \n",
    "    return decoded_message\n",
    "decoding(encoded_message)"
   ]
  },
  {
   "cell_type": "markdown",
   "metadata": {},
   "source": [
    "### Part B(iii) (1 mark)\n",
    "\n",
    "Apply your encoder and decoder code to the message string `msg1`. Print the original message, the encoded message and the decoded message, preceded by informative print statements.  "
   ]
  },
  {
   "cell_type": "code",
   "execution_count": 27,
   "metadata": {},
   "outputs": [
    {
     "name": "stdout",
     "output_type": "stream",
     "text": [
      "This is the original message: MEET AT THE BRIDGE AT DAWN\n",
      "This is the encoded message: \"\\#\\#\\#qZdG*Wd*hJgLuE*HkW*Wd*wHhP\\#\\#\\#\"\n",
      "This is the decoded message: MEET AT THE BRIDGE AT DAWN\n"
     ]
    }
   ],
   "source": [
    "print(f\"This is the original message: {msg1}\")\n",
    "\n",
    "encoded = encoding(msg1)\n",
    "print(f\"This is the encoded message: {encoded}\")\n",
    "\n",
    "decoded = decoding(encoded)\n",
    "print(f\"This is the decoded message: {decoded}\")"
   ]
  },
  {
   "attachments": {},
   "cell_type": "markdown",
   "metadata": {},
   "source": [
    "## Part C (4 marks)"
   ]
  },
  {
   "cell_type": "markdown",
   "metadata": {},
   "source": [
    "Another method for encoding and decoding messages is to use a mirror dictionary, which maps letters to other letters, for example, `A` is mapped to `Z`, `B` is mapped to `Y` and so on. \n",
    "\n",
    "You have received a dictionary `mirror_dict` and a function `decode_mirror_loop` (which takes as arguments a message and the dictionary) that is supposed to decode a message using `mirror_dict`. \n",
    "\n",
    "However, when applied to the encoded message `msg2`, the result seems wrong. You suspect that the dictionary is incorrect, but also the function might be wrong. State all the issues you can find and correct them. What is the correctly decoded message when applied to `msg2`?"
   ]
  },
  {
   "cell_type": "code",
   "execution_count": 28,
   "metadata": {},
   "outputs": [
    {
     "name": "stdout",
     "output_type": "stream",
     "text": [
      "Decoded  message: YAHONARIESAOIMPORASAAASBUARWASBORNWIAHIA\n"
     ]
    }
   ],
   "source": [
    "# these are the provided dictionary and function for part C\n",
    "mirror_dict = {\n",
    "    'A': 'Z', 'B': 'Y', 'C': 'X', 'D': 'W', 'E': 'V',\n",
    "    'F': 'U', 'G': 'A', 'H': 'S', 'I': 'R', 'J': 'Q',\n",
    "    'K': 'P', 'L': 'O', 'M': 'N', 'N': 'M', 'O': 'L',\n",
    "    'P': 'K', 'Q': 'J', 'R': 'I', 'S': 'H', 'T': 'G',\n",
    "    'U': 'F', 'V': 'E', 'W': 'D', 'X': 'C', 'Y': 'B',\n",
    "    'Z': 'A'\n",
    "}\n",
    "\n",
    "def decode_mirror_loop(message, mirror_dict):\n",
    "    res = []\n",
    "    i = 1\n",
    "    for i in range(1,len(message)):\n",
    "        ch = message[i]\n",
    "        if ch != \" \":\n",
    "            res.append(mirror_dict.get(ch))\n",
    "        i = i+2 #This does nothing\n",
    "    return \"\".join(res)\n",
    "\n",
    "decoded = decode_mirror_loop(msg2, mirror_dict)\n",
    "\n",
    "# the decoded message looks like gibberish\n",
    "print(\"Decoded  message:\", decoded)\n",
    "    "
   ]
  },
  {
   "cell_type": "code",
   "execution_count": 29,
   "metadata": {},
   "outputs": [
    {
     "name": "stdout",
     "output_type": "stream",
     "text": [
      "Decoded  message: PYTHON TRIES TO IMPORT STATS BUT R WAS BORN WITH IT\n"
     ]
    }
   ],
   "source": [
    "mirror_dict = {\n",
    "    'A': 'Z', 'B': 'Y', 'C': 'X', 'D': 'W', 'E': 'V',\n",
    "    'F': 'U', 'G': 'T', 'H': 'S', 'I': 'R', 'J': 'Q',       # The mirror of G was given as A, which created confusion\n",
    "    'K': 'P', 'L': 'O', 'M': 'N', 'N': 'M', 'O': 'L',\n",
    "    'P': 'K', 'Q': 'J', 'R': 'I', 'S': 'H', 'T': 'G',\n",
    "    'U': 'F', 'V': 'E', 'W': 'D', 'X': 'C', 'Y': 'B',\n",
    "    'Z': 'A'\n",
    "}\n",
    "\n",
    "def decode_mirror_loop(message, mirror_dict):\n",
    "    res = []\n",
    "    i = 0                                   # i should start from zero since the first index is number 0\n",
    "    for i in range(len(message)):           # i should be between 0 and len(message)\n",
    "        ch = message[i]\n",
    "        if ch != \" \":\n",
    "            res.append(mirror_dict.get(ch))\n",
    "        # i = i+2                           #This did nothing\n",
    "        else:                               # there was nothing given for the case when the caracter was whitespace\n",
    "            res.append(\" \")\n",
    "    return \"\".join(res)\n",
    "\n",
    "decoded = decode_mirror_loop(msg2, mirror_dict)\n",
    "\n",
    "print(\"Decoded  message:\", decoded)\n"
   ]
  },
  {
   "attachments": {},
   "cell_type": "markdown",
   "metadata": {},
   "source": [
    "# Part D (2 marks)\n",
    "\n",
    "A fellow spy has told you that it is possible to use Python's `map` method or list comprehensions to decode messages using the mirror dictionary `mirror_dict`. \n",
    "\n",
    "Write two alternative functions `decode_mirror_map` and `decode_mirror_listcomp` that use `map` to decode messages using the (possibly corrected) mirror dictionary `mirror_dict`. Check that these functions give the same results as in Part C when applied to `msg2`."
   ]
  },
  {
   "cell_type": "code",
   "execution_count": 30,
   "metadata": {},
   "outputs": [
    {
     "name": "stdout",
     "output_type": "stream",
     "text": [
      "This message was decoded using map method: PYTHON TRIES TO IMPORT STATS BUT R WAS BORN WITH IT\n",
      "This message was decoded using listcomp: PYTHON TRIES TO IMPORT STATS BUT R WAS BORN WITH IT\n"
     ]
    }
   ],
   "source": [
    "def decode_mirror_map(message, mirror_dict):\n",
    "    return \"\".join(map(lambda ch: mirror_dict.get(ch) if ch != \" \" else \" \",message))\n",
    "print(f\"This message was decoded using map method: {decode_mirror_map(msg2, mirror_dict)}\")\n",
    "\n",
    "\n",
    "def decode_mirror_listcomp(message, mirror_dict):\n",
    "    return \"\".join([mirror_dict.get(ch) if ch != \" \" else \" \" for ch in message])\n",
    "print(f\"This message was decoded using listcomp: {decode_mirror_listcomp(msg2, mirror_dict)}\")"
   ]
  },
  {
   "attachments": {},
   "cell_type": "markdown",
   "metadata": {},
   "source": [
    "# Part E (3 marks)\n",
    "\n",
    "The message string `msg3` contains words separated by `\"*\"` that have been encoded using an unknown method. You are also given a list of important encoded keywords `important_words`. \n",
    "\n",
    "# E(i) (1 mark)\n",
    "\n",
    "Create a dictionary `word_freq` with keys being the encoded words in the message and values the frequency of each word in the message. Print the word frequencies preceded by an informative print statement."
   ]
  },
  {
   "cell_type": "code",
   "execution_count": 31,
   "metadata": {},
   "outputs": [
    {
     "name": "stdout",
     "output_type": "stream",
     "text": [
      "Word frequencies in msg3: {'XLMW': 4, 'MW': 4, 'XLI': 6, 'HIVW': 2, 'WLSYWI': 2, 'UVG': 2, 'WWT': 2, 'UIAG': 2, 'OLKDL': 2, 'AU': 4}\n"
     ]
    }
   ],
   "source": [
    "words = msg3.split(\"*\")\n",
    "# print(words)\n",
    "\n",
    "word_freq = {}\n",
    "\n",
    "for word in words:\n",
    "    word_freq[word] = word_freq.get(word, 0) + 1\n",
    "\n",
    "# Print the result with a helpful message\n",
    "print(f\"Word frequencies in msg3: {word_freq}\")\n"
   ]
  },
  {
   "attachments": {},
   "cell_type": "markdown",
   "metadata": {},
   "source": [
    "## E(ii) (1 mark)\n",
    "\n",
    "Identify the important keywords in the message. Print these important keywords in alphabetical order, preceded by an informative print statement."
   ]
  },
  {
   "cell_type": "code",
   "execution_count": 32,
   "metadata": {},
   "outputs": [
    {
     "name": "stdout",
     "output_type": "stream",
     "text": [
      "The important keywords found in the message are: ['AU', 'HIVW', 'WLSYWI', 'XLMW']\n"
     ]
    }
   ],
   "source": [
    "# print(important_words)\n",
    "\n",
    "keywords = [w for w in important_words if w in word_freq]\n",
    "\n",
    "keywords.sort()\n",
    "\n",
    "print(f\"The important keywords found in the message are: {keywords}\")"
   ]
  },
  {
   "cell_type": "markdown",
   "metadata": {},
   "source": [
    "## E(iii) (1 mark)\n",
    "\n",
    "Print the proportion of important keywords in the message, preceded by an informative print statement."
   ]
  },
  {
   "cell_type": "code",
   "execution_count": 33,
   "metadata": {},
   "outputs": [
    {
     "name": "stdout",
     "output_type": "stream",
     "text": [
      "The proportion of important keywords in the message is: 12/30\n"
     ]
    }
   ],
   "source": [
    "total_word_count = 0\n",
    "important_word_count = 0\n",
    "\n",
    "for w in word_freq:\n",
    "    total_word_count += word_freq.get(w)\n",
    "    if w in important_words:\n",
    "        important_word_count += word_freq.get(w)\n",
    "print(f\"The proportion of important keywords in the message is: {important_word_count}/{total_word_count}\")"
   ]
  }
 ],
 "metadata": {
  "kernelspec": {
   "display_name": ".venv",
   "language": "python",
   "name": "python3"
  },
  "language_info": {
   "codemirror_mode": {
    "name": "ipython",
    "version": 3
   },
   "file_extension": ".py",
   "mimetype": "text/x-python",
   "name": "python",
   "nbconvert_exporter": "python",
   "pygments_lexer": "ipython3",
   "version": "3.9.6"
  }
 },
 "nbformat": 4,
 "nbformat_minor": 2
}
